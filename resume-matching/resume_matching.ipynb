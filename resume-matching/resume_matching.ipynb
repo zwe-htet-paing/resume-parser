{
 "cells": [
  {
   "cell_type": "markdown",
   "metadata": {},
   "source": [
    "#### Import Libraries"
   ]
  },
  {
   "cell_type": "code",
   "execution_count": 1,
   "metadata": {},
   "outputs": [],
   "source": [
    "import pdfplumber\n",
    "from sklearn.feature_extraction.text import CountVectorizer\n",
    "from sklearn.metrics.pairwise import cosine_similarity"
   ]
  },
  {
   "cell_type": "markdown",
   "metadata": {},
   "source": [
    "#### Extract text from PDF"
   ]
  },
  {
   "cell_type": "code",
   "execution_count": 2,
   "metadata": {},
   "outputs": [],
   "source": [
    "resume_path = './sample_data/resume_sample.pdf'\n",
    "job_description_path = './sample_data/job_description_sample.pdf'"
   ]
  },
  {
   "cell_type": "code",
   "execution_count": 3,
   "metadata": {},
   "outputs": [
    {
     "name": "stdout",
     "output_type": "stream",
     "text": [
      "ZWE HTET\n",
      "PAING\n",
      "AI ENGINEER | DATA SCIENTIST\n",
      "EMPLOYMENT HISTORY\n",
      "AI Engineer\n",
      "PROMES Myanmar | Dec 2022 - Now\n",
      "Specialize in NLP and Computer Vision\n",
      "Implemented Airflow to automate ETL pipelines\n",
      "Managing MySQL, PostgreSQL, and MongoDB\n",
      "databases\n",
      "Developing REST api using Django and FastAPI\n",
      "PERSONAL PROFILE framework\n",
      "Experienced AI engineer with expertise in machine Data Scientist\n",
      "learning and deep learning frameworks. Skilled in\n",
      "Bagan Innovation Technology | Dec 2021 - Nov 2022\n",
      "developing and implementing AI models to solve\n",
      "complex business problems. Proficient in Python and Specialize in NLP and Speech\n",
      "experienced in working with libraries such as Automatic Speech Recognition (ASR)\n",
      "TensorFlow, Keras, and PyTorch. Text to Speech (TTS)\n",
      "Work closely with team member\n",
      "CONTACT DETAILS\n",
      "Artificial Intelligence Engineer\n",
      "Gmail - zwehtetpaing.works@gmail.com\n",
      "Mobile - 09-793478880\n",
      "METRO Computer Myanmar | Jan 2021 – May 2021\n",
      "Location - Hlaing, Yangon\n",
      "Specialized in Computer Vision.\n",
      "GitHub - https://github.com/zwe-htet-paing Image Classification, Object detection, Activity\n",
      "LinkedIn - https://www.linkedin.com/in/zwe-htet- Recognition\n",
      "paing/ Collaborate with project leader to optimize latency and\n",
      "throughput of the models.\n",
      "ACADEMIC PROFILE\n",
      "Fullstack Web Developer\n",
      "University of Technology(Yatanarpon Cyber\n",
      "City) THETYS Company.Ltd | Aug 2020 – Nov 2020\n",
      "Bachelor of Information and Communication Developing front end website architecture using Vue.js\n",
      "Technology | 2013- 2019 and Vuetify framework.\n",
      "Graduated Class of 2019 Developing back-end website applications using C#\n",
      "and .Net.\n",
      "Creating servers and databases for functionality using\n",
      "SKILLS AND ABILITIES MySQL.\n",
      "Ensuring cross-platform optimization for mobile\n",
      "Artificial Intelligence, Machine Learning and phones.\n",
      "Deep Learning Ensuring responsiveness of applications.\n",
      "Python, PyTorch, Docker Develop and design RESTful services and APIs\n",
      "Strong communication and interpersonal skills\n",
      "Working knowledge of web developer\n",
      "Fast learner and Team player Web Developer Internship\n",
      "Critical thinking, Problem solving\n",
      "T-Work System Company.Ltd | Jan 2020 – May 2021\n",
      "Hard working\n",
      "Motivated and dedicated Website design and development using HTML, CSS,\n",
      "Wordpress\n",
      "PERSONAL PROJECT\n",
      "Personality Prediction System | Jun 2019 – Oct 2019\n",
      "Final year B.E Thesis\n",
      "Prepare data from Personality datasets\n",
      "Predict user's personality using machine learning algorithm - Support Vector Machine (SVM)\n",
      "Project link - https://github.com/zwe-htet-paing/twitter-personality\n",
      "FREELANCE PROJECT\n",
      "Visual Pollution Classification\n",
      "Image classification project that aimed to identify and classify visual pollution in urban environments, such as\n",
      "potholes, garbage, broken signage, etc..\n",
      "- Pytorch, EfficientNet\n",
      "Potholes Detection and 3D reconstruction\n",
      "Object Detection project that aimed to detect potholes in urban environments and try to reconstruct 3D image\n",
      "of potholes\n",
      "- YOLO, Open3D, Structure from Motion\n"
     ]
    }
   ],
   "source": [
    "def extract_text_from_pdf(pdf_path, num_pages=None):\n",
    "    text_data = []\n",
    "    with pdfplumber.open(pdf_path) as pdf:\n",
    "        # Number of pages to extract\n",
    "        if num_pages == None:\n",
    "            num_pages = len(pdf.pages)\n",
    "        \n",
    "        # Extract text from each page\n",
    "        for i in range(0, num_pages):\n",
    "            page = pdf.pages[i]\n",
    "            text = page.extract_text()\n",
    "            text_data.append(text)\n",
    "              \n",
    "    return text_data\n",
    "\n",
    "\n",
    "resume_data = extract_text_from_pdf(resume_path)\n",
    "for text in resume_data:\n",
    "    print(text)"
   ]
  },
  {
   "cell_type": "code",
   "execution_count": 4,
   "metadata": {},
   "outputs": [],
   "source": [
    "def get_clean_text(text_data):\n",
    "    text = ''.join(text_data)\n",
    "    text = text.replace('\\n', ' ')\n",
    "    \n",
    "    return text"
   ]
  },
  {
   "cell_type": "code",
   "execution_count": 5,
   "metadata": {},
   "outputs": [
    {
     "name": "stdout",
     "output_type": "stream",
     "text": [
      "ZWE HTET PAING AI ENGINEER | DATA SCIENTIST EMPLOYMENT HISTORY AI Engineer PROMES Myanmar | Dec 2022 - Now Specialize in NLP and Computer Vision Implemented Airflow to automate ETL pipelines Managing MySQL, PostgreSQL, and MongoDB databases Developing REST api using Django and FastAPI PERSONAL PROFILE framework Experienced AI engineer with expertise in machine Data Scientist learning and deep learning frameworks. Skilled in Bagan Innovation Technology | Dec 2021 - Nov 2022 developing and implementing AI models to solve complex business problems. Proficient in Python and Specialize in NLP and Speech experienced in working with libraries such as Automatic Speech Recognition (ASR) TensorFlow, Keras, and PyTorch. Text to Speech (TTS) Work closely with team member CONTACT DETAILS Artificial Intelligence Engineer Gmail - zwehtetpaing.works@gmail.com Mobile - 09-793478880 METRO Computer Myanmar | Jan 2021 – May 2021 Location - Hlaing, Yangon Specialized in Computer Vision. GitHub - https://github.com/zwe-htet-paing Image Classification, Object detection, Activity LinkedIn - https://www.linkedin.com/in/zwe-htet- Recognition paing/ Collaborate with project leader to optimize latency and throughput of the models. ACADEMIC PROFILE Fullstack Web Developer University of Technology(Yatanarpon Cyber City) THETYS Company.Ltd | Aug 2020 – Nov 2020 Bachelor of Information and Communication Developing front end website architecture using Vue.js Technology | 2013- 2019 and Vuetify framework. Graduated Class of 2019 Developing back-end website applications using C# and .Net. Creating servers and databases for functionality using SKILLS AND ABILITIES MySQL. Ensuring cross-platform optimization for mobile Artificial Intelligence, Machine Learning and phones. Deep Learning Ensuring responsiveness of applications. Python, PyTorch, Docker Develop and design RESTful services and APIs Strong communication and interpersonal skills Working knowledge of web developer Fast learner and Team player Web Developer Internship Critical thinking, Problem solving T-Work System Company.Ltd | Jan 2020 – May 2021 Hard working Motivated and dedicated Website design and development using HTML, CSS, WordpressPERSONAL PROJECT Personality Prediction System | Jun 2019 – Oct 2019 Final year B.E Thesis Prepare data from Personality datasets Predict user's personality using machine learning algorithm - Support Vector Machine (SVM) Project link - https://github.com/zwe-htet-paing/twitter-personality FREELANCE PROJECT Visual Pollution Classification Image classification project that aimed to identify and classify visual pollution in urban environments, such as potholes, garbage, broken signage, etc.. - Pytorch, EfficientNet Potholes Detection and 3D reconstruction Object Detection project that aimed to detect potholes in urban environments and try to reconstruct 3D image of potholes - YOLO, Open3D, Structure from Motion\n"
     ]
    }
   ],
   "source": [
    "resume_text = get_clean_text(resume_data)\n",
    "print(resume_text)"
   ]
  },
  {
   "cell_type": "code",
   "execution_count": 6,
   "metadata": {},
   "outputs": [
    {
     "name": "stdout",
     "output_type": "stream",
     "text": [
      "About the job We are seeking a talented and motivated Data AI Engineer to join Client's project. As a AI Data Engineer, you will be responsible for developing and implementing data-driven artificial intelligence solutions that drive actionable insights and help optimize investment decisions for company. You will play a key role in developing and fine-tuning prompts that drive the generation of high-quality and contextually relevant content from AI models for the deal memos. You will work closely with the team to design and optimize generative AI systems that produce compelling and coherent outputs. Responsibilities: Collaborate with our team to understand the requirements and objectives for  generating AI-driven content in various domains, such as creative writing, chatbots, sales assistants, virtual assistants, deal memos, or content generation for specific applications. Design and develop high-quality prompts and guidelines that effectively guide AI  models to generate coherent and relevant outputs. Conduct thorough research and analysis to identify optimal techniques, architectures,  and strategies for prompt engineering and content generation. Develop and fine-tune prompt templates, input formatting, and control mechanisms to  influence the behavior and output of AI models. Collaborate with the General Partners to identify business problems that can be  addressed using AI and machine learning techniques, and define clear objectives and success criteria. Develop and maintain data pipelines and data integration processes to collect,  transform, and clean structured and unstructured data from various sources. Implement and optimize machine learning algorithms for classification, regression,  clustering, recommendation systems, or other relevant AI applications. Evaluate and select appropriate AI technologies, frameworks, and tools to support  data-driven decision-making and enhance predictive capabilities. Develop and deploy AI models into production systems, ensuring scalability,  performance, and reliability. Stay up-to-date with the latest advancements in AI, machine learning, and data  engineering technologies, and propose innovative solutions for business challenges. Qualifications: Bachelor's degree or higher in Computer Science, Data Science, Engineering, or a  related field. Advanced degrees are preferred. 3+ years of experience working as a Data Engineer.  Experience with AI technologies and frameworks such as TensorFlow, PyTorch, scikit-  learn, or similar. Strong knowledge and hands-on experience in data engineering, data manipulation,  and data preprocessing techniques.Proficiency in programming languages such as Python, Java, or Scala, along with  expertise in SQL and experience with big data processing frameworks (e.g., Hadoop, Spark). Strong problem-solving skills and the ability to translate businessrequirements into  technical solutions. Solid understanding of machine learning algorithms, statistical analysis, and data  modeling techniques. Familiarity with cloud platforms (e.g., AWS, Azure, Google Cloud) and their data  services. Excellent communication skills to collaborate effectively with cross-functional teams  and present technical concepts to both technical and non-technical stakeholders. Experience with Agile development methodologies and version control systems.  Familiarity with DevOps practices and the ability to deploy and manage AI models in  production environments is a plus. Why you'll love working here: Attractive salary.  Hybrid working, flexible working time from Monday to Friday.  Attractive salary with 100% salary during probation.  Fully paid compulsory insurances after probation.  Opportunity to work with international clients and peers.  Healthcare package after probation.  External and Internal Training Opportunities are sponsored by company.  13th month salary.  Provide all necessary equipment.  Entitled to 15 paid days off and 05 medical days off per year  For further information, please feel free to contact me via: Email: mai@talentedge.io Skype: live:phuongmaidang97\n"
     ]
    }
   ],
   "source": [
    "job_description_data = extract_text_from_pdf(job_description_path)\n",
    "job_description_text = get_clean_text(job_description_data)\n",
    "print(job_description_text)"
   ]
  },
  {
   "cell_type": "markdown",
   "metadata": {},
   "source": [
    "#### Text to Vector"
   ]
  },
  {
   "cell_type": "code",
   "execution_count": 7,
   "metadata": {},
   "outputs": [],
   "source": [
    "match_test = [resume_text, \n",
    "              job_description_text]"
   ]
  },
  {
   "cell_type": "code",
   "execution_count": 8,
   "metadata": {},
   "outputs": [
    {
     "data": {
      "text/plain": [
       "array(['05', '09', '100', '13th', '15', '2013', '2019', '2020', '2021',\n",
       "       '2022'], dtype=object)"
      ]
     },
     "execution_count": 8,
     "metadata": {},
     "output_type": "execute_result"
    }
   ],
   "source": [
    "vectorizer = CountVectorizer()\n",
    "count_matrx = vectorizer.fit_transform(match_test)\n",
    "vectorizer.get_feature_names_out()[:10]"
   ]
  },
  {
   "cell_type": "markdown",
   "metadata": {},
   "source": [
    "#### Caculate Similarity"
   ]
  },
  {
   "cell_type": "code",
   "execution_count": 9,
   "metadata": {},
   "outputs": [
    {
     "name": "stdout",
     "output_type": "stream",
     "text": [
      "Similarity is:  [[1.         0.68456609]\n",
      " [0.68456609 1.        ]]\n"
     ]
    }
   ],
   "source": [
    "print(\"Similarity is: \", cosine_similarity(count_matrx))"
   ]
  },
  {
   "cell_type": "code",
   "execution_count": 10,
   "metadata": {},
   "outputs": [
    {
     "name": "stdout",
     "output_type": "stream",
     "text": [
      "Match Percentage is: 68.0% to Job Requirement\n"
     ]
    }
   ],
   "source": [
    "match_percentage = cosine_similarity(count_matrx)[0][1]\n",
    "match_percentage = round(match_percentage, 2) * 100\n",
    "\n",
    "print('Match Percentage is: '+ str(match_percentage)+'% to Job Requirement')\n"
   ]
  },
  {
   "cell_type": "code",
   "execution_count": null,
   "metadata": {},
   "outputs": [],
   "source": []
  },
  {
   "cell_type": "markdown",
   "metadata": {},
   "source": [
    "#### References\n",
    "- https://www.kaggle.com/code/nezarabdilahprakasa/matching-cv-to-job-description-using-python/notebook"
   ]
  }
 ],
 "metadata": {
  "kernelspec": {
   "display_name": "cv_env",
   "language": "python",
   "name": "python3"
  },
  "language_info": {
   "codemirror_mode": {
    "name": "ipython",
    "version": 3
   },
   "file_extension": ".py",
   "mimetype": "text/x-python",
   "name": "python",
   "nbconvert_exporter": "python",
   "pygments_lexer": "ipython3",
   "version": "3.10.12"
  },
  "orig_nbformat": 4
 },
 "nbformat": 4,
 "nbformat_minor": 2
}
